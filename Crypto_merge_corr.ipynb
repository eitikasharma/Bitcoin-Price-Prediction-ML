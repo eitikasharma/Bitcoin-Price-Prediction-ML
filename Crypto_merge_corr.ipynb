{
 "cells": [
  {
   "cell_type": "code",
   "execution_count": 1,
   "metadata": {},
   "outputs": [],
   "source": [
    "import pandas as pd\n",
    "import numpy as np\n",
    "import seaborn as sns\n",
    "import matplotlib.pyplot as plt\n",
    "import matplotlib.style as style"
   ]
  },
  {
   "cell_type": "code",
   "execution_count": 2,
   "metadata": {},
   "outputs": [],
   "source": [
    "df_bitcoin = pd.read_csv(\"BTC.csv\")\n",
    "df_gold = pd.read_csv(\"GOLD.csv\")\n",
    "df_litecoin = pd.read_csv(\"Litecoin.csv\")\n",
    "df_nyse = pd.read_csv(\"NYSE.csv\")\n",
    "df_eth = pd.read_csv(\"ETH.csv\")\n",
    "df_nasdaq = pd.read_csv(\"nasdaq.csv\")\n",
    "df_google_trends = pd.read_csv(\"Google_trends.csv\")\n",
    "df_bitcoin_difficulty= pd.read_csv(\"BTC_difficulty.csv\")\n",
    "df_bitcoin_cash= pd.read_csv(\"BTC_cash_usd.csv\")\n"
   ]
  },
  {
   "cell_type": "code",
   "execution_count": 3,
   "metadata": {},
   "outputs": [],
   "source": [
    "df_bitcoin['Date']=pd.to_datetime(df_bitcoin.Date)\n",
    "df_gold['Date']=pd.to_datetime(df_gold.Date)\n",
    "df_litecoin['Date']=pd.to_datetime(df_litecoin.Date)\n",
    "df_nyse['Date']=pd.to_datetime(df_nyse.Date)\n",
    "df_eth['Date']=pd.to_datetime(df_eth.Date)\n",
    "df_nasdaq['Date']=pd.to_datetime(df_nasdaq.Date)\n",
    "df_google_trends['Date']=pd.to_datetime(df_google_trends.Date)\n",
    "df_bitcoin_difficulty['Date']=pd.to_datetime(df_bitcoin_difficulty.Date)\n",
    "df_bitcoin_cash['Date']=pd.to_datetime(df_bitcoin_cash.Date)\n"
   ]
  },
  {
   "cell_type": "code",
   "execution_count": 4,
   "metadata": {},
   "outputs": [
    {
     "name": "stdout",
     "output_type": "stream",
     "text": [
      "           Date       BTC_usd    BTC_Volume  Gold_usd  Litecoin_usd  \\\n",
      "0    2015-01-01    320.434998  8.036550e+06       NaN      2.724210   \n",
      "1    2015-01-02    314.079010  7.860650e+06     10.54      2.697430   \n",
      "2    2015-01-03    314.846008  3.305440e+07       NaN      2.666460   \n",
      "3    2015-01-04    281.145996  5.562910e+07       NaN      2.110220   \n",
      "4    2015-01-05    265.084015  4.396280e+07     10.98      1.958030   \n",
      "...         ...           ...           ...       ...           ...   \n",
      "3332 2024-02-15  51836.785160  3.856436e+10     14.34     69.896500   \n",
      "3333 2024-02-16  51937.726560  2.818057e+10     14.58     69.814407   \n",
      "3334 2024-02-17  52161.675780  2.000909e+10       NaN     70.616348   \n",
      "3335 2024-02-18  51661.968750  1.759538e+10       NaN     69.990204   \n",
      "3336 2024-02-19  52134.812500  1.974588e+10       NaN           NaN   \n",
      "\n",
      "         NYSE_usd  Ethereum_Price  nasdaq_composite_index  Bitcoin_pop_score  \\\n",
      "0             NaN             NaN                     NaN                NaN   \n",
      "1     10859.79981             NaN             4760.240234                NaN   \n",
      "2             NaN             NaN                     NaN                NaN   \n",
      "3             NaN             NaN                     NaN               63.0   \n",
      "4     10764.37012             NaN             4700.339844                NaN   \n",
      "...           ...             ...                     ...                ...   \n",
      "3332  17240.18945     2777.601318            15865.299810                NaN   \n",
      "3333  17434.92969     2825.480713            15910.429690                NaN   \n",
      "3334          NaN     2803.735840                     NaN                NaN   \n",
      "3335          NaN     2786.709717                     NaN                NaN   \n",
      "3336          NaN     2881.296875                     NaN                NaN   \n",
      "\n",
      "      Difficulty_BTC  BTC_cash_usd  \n",
      "0       4.064096e+10           NaN  \n",
      "1       4.064096e+10           NaN  \n",
      "2       4.064096e+10           NaN  \n",
      "3       4.064096e+10           NaN  \n",
      "4       4.064096e+10           NaN  \n",
      "...              ...           ...  \n",
      "3332    7.760000e+13    281.228638  \n",
      "3333             NaN    270.664642  \n",
      "3334             NaN    274.812195  \n",
      "3335             NaN    267.411438  \n",
      "3336             NaN    270.438354  \n",
      "\n",
      "[3337 rows x 11 columns]\n"
     ]
    }
   ],
   "source": [
    "merged_df = pd.merge(df_bitcoin, df_gold, on=\"Date\", how=\"outer\")\n",
    "merged_df = pd.merge(merged_df, df_litecoin, on=\"Date\", how=\"outer\")\n",
    "merged_df = pd.merge(merged_df, df_nyse, on=\"Date\", how=\"outer\")\n",
    "merged_df = pd.merge(merged_df, df_eth, on=\"Date\", how=\"outer\")\n",
    "merged_df = pd.merge(merged_df, df_nasdaq, on=\"Date\", how=\"outer\")\n",
    "merged_df = pd.merge(merged_df, df_google_trends, on=\"Date\", how=\"outer\")\n",
    "merged_df = pd.merge(merged_df, df_bitcoin_difficulty, on=\"Date\", how=\"outer\")\n",
    "merged_df = pd.merge(merged_df, df_bitcoin_cash, on=\"Date\", how=\"outer\")\n",
    "\n",
    "merged_df = merged_df.sort_values(by=\"Date\")\n",
    "merged_df.reset_index(drop=True, inplace=True)\n",
    "print(merged_df)"
   ]
  },
  {
   "cell_type": "code",
   "execution_count": 5,
   "metadata": {},
   "outputs": [],
   "source": [
    "merged_df.to_csv(\"Crypto_currency.csv\", index=False)"
   ]
  }
 ],
 "metadata": {
  "kernelspec": {
   "display_name": "Python 3 (ipykernel)",
   "language": "python",
   "name": "python3"
  },
  "language_info": {
   "codemirror_mode": {
    "name": "ipython",
    "version": 3
   },
   "file_extension": ".py",
   "mimetype": "text/x-python",
   "name": "python",
   "nbconvert_exporter": "python",
   "pygments_lexer": "ipython3",
   "version": "3.11.5"
  }
 },
 "nbformat": 4,
 "nbformat_minor": 2
}
